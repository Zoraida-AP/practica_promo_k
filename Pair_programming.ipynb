{
 "cells": [
  {
   "cell_type": "markdown",
   "metadata": {},
   "source": []
  },
  {
   "cell_type": "markdown",
   "metadata": {},
   "source": [
    "#1 Duplicar elementos de una lista\n",
    "\n",
    "Descripción: Dada una lista de números, duplica cada elemento en la lista. Ejemplo:\n",
    "\n",
    "Copy\n",
    "# dada la siguiente lista el output esperado es:\n",
    "lista = [2, 4, 6, 8]\n",
    "\n",
    "[2, 4, 6, 8, 2, 4, 6, 8]"
   ]
  },
  {
   "cell_type": "code",
   "execution_count": 7,
   "metadata": {},
   "outputs": [
    {
     "name": "stdout",
     "output_type": "stream",
     "text": [
      "[2, 4, 6, 8, 2, 4, 6, 8]\n"
     ]
    }
   ],
   "source": [
    "#1\n",
    "# dada la siguiente lista el output esperado es:\n",
    "lista = [2, 4, 6, 8]\n",
    "listaa = (lista+lista)\n",
    "print(listaa)"
   ]
  },
  {
   "cell_type": "markdown",
   "metadata": {},
   "source": [
    "#2 Combinar dos listas\n",
    "\n",
    "Descripción: Dadas dos listas, crea una nueva lista que contenga todos los elementos de ambas listas"
   ]
  },
  {
   "cell_type": "code",
   "execution_count": 9,
   "metadata": {},
   "outputs": [
    {
     "name": "stdout",
     "output_type": "stream",
     "text": [
      "[1, 2, 3, 4, 5, 6]\n"
     ]
    }
   ],
   "source": [
    "# dadas las siguientes listas el output esperado es:\n",
    "lista1 = [1, 2, 3]\n",
    "lista2 = [4, 5, 6]\n",
    "\n",
    "print(lista1+lista2)"
   ]
  },
  {
   "cell_type": "code",
   "execution_count": 10,
   "metadata": {},
   "outputs": [
    {
     "data": {
      "text/plain": [
       "40"
      ]
     },
     "execution_count": 10,
     "metadata": {},
     "output_type": "execute_result"
    }
   ],
   "source": [
    "#3. Calcular la suma de una lista de números\n",
    "\n",
    "lista = [2, 4, 6, 8, 2, 4, 6, 8]\n",
    "sum(lista)"
   ]
  },
  {
   "cell_type": "markdown",
   "metadata": {},
   "source": [
    "#3. Calcular la suma de una lista de números\n",
    "\n",
    "lista = [2, 4, 6, 8, 2, 4, 6, 8]\n",
    "sum(lista)"
   ]
  },
  {
   "cell_type": "code",
   "execution_count": 12,
   "metadata": {},
   "outputs": [
    {
     "name": "stdout",
     "output_type": "stream",
     "text": [
      "8\n"
     ]
    }
   ],
   "source": [
    "#4 Encontrar el valor máximo en una lista\n",
    "lista_max = max(lista)\n",
    "print(lista_max)"
   ]
  },
  {
   "cell_type": "code",
   "execution_count": 15,
   "metadata": {},
   "outputs": [
    {
     "name": "stdout",
     "output_type": "stream",
     "text": [
      "8\n"
     ]
    }
   ],
   "source": [
    "#5 Calcular la longitud de una lista\n",
    "lista_len = len(lista)\n",
    "print(lista_len)"
   ]
  },
  {
   "cell_type": "code",
   "execution_count": 17,
   "metadata": {},
   "outputs": [
    {
     "data": {
      "text/plain": [
       "1"
      ]
     },
     "execution_count": 17,
     "metadata": {},
     "output_type": "execute_result"
    }
   ],
   "source": [
    "#6 Encontrar el índice de un elemento en una lista\n",
    "lista.index(4)"
   ]
  },
  {
   "cell_type": "code",
   "execution_count": 18,
   "metadata": {},
   "outputs": [
    {
     "data": {
      "text/plain": [
       "2"
      ]
     },
     "execution_count": 18,
     "metadata": {},
     "output_type": "execute_result"
    }
   ],
   "source": [
    "#7 Contar ocurrencias de un elemento en una lista\n",
    "\n",
    "lista.count(4)"
   ]
  },
  {
   "cell_type": "code",
   "execution_count": 32,
   "metadata": {},
   "outputs": [
    {
     "data": {
      "text/plain": [
       "[6, 8, 2]"
      ]
     },
     "execution_count": 32,
     "metadata": {},
     "output_type": "execute_result"
    }
   ],
   "source": [
    "#8 Obtener una sublista de una lista\n",
    "lista = [2, 4, 6, 8, 2, 4, 6, 8]\n",
    "\n",
    "lista[2:5]\n",
    "\n",
    "\n"
   ]
  },
  {
   "cell_type": "code",
   "execution_count": 27,
   "metadata": {},
   "outputs": [
    {
     "data": {
      "text/plain": [
       "8"
      ]
     },
     "execution_count": 27,
     "metadata": {},
     "output_type": "execute_result"
    }
   ],
   "source": [
    "#9 Obtener el último elemento de una lista\n",
    "\n",
    "lista[-1]"
   ]
  },
  {
   "cell_type": "code",
   "execution_count": 28,
   "metadata": {},
   "outputs": [
    {
     "data": {
      "text/plain": [
       "[4, 6]"
      ]
     },
     "execution_count": 28,
     "metadata": {},
     "output_type": "execute_result"
    }
   ],
   "source": [
    "#11 Obtener una sublista de una lista\n",
    "\n",
    "#Descripción: Dada una lista, obtén una sublista que contenga los elementos desde el índice 1 hasta el índice 3 (sin incluirlo).\n",
    "\n",
    "lista[1:3]"
   ]
  },
  {
   "cell_type": "code",
   "execution_count": 35,
   "metadata": {},
   "outputs": [
    {
     "data": {
      "text/plain": [
       "[2, 3, 6, 8, 2, 4, 6, 8]"
      ]
     },
     "execution_count": 35,
     "metadata": {},
     "output_type": "execute_result"
    }
   ],
   "source": [
    "#12 Reemplazar un elemento en una lista\n",
    "\n",
    "#Descripción: Dada una lista, reemplaza el segundo elemento con un nuevo valor\n",
    "\n",
    "lista[1]=3\n",
    "lista"
   ]
  },
  {
   "cell_type": "code",
   "execution_count": 73,
   "metadata": {},
   "outputs": [
    {
     "data": {
      "text/plain": [
       "[8, 7, 6, 5, 4, 3, 2, 1]"
      ]
     },
     "execution_count": 73,
     "metadata": {},
     "output_type": "execute_result"
    }
   ],
   "source": [
    "#13 Obtener una lista inversa. Descripción: Dada una lista, obtén una nueva lista que contenga los elementos en orden inverso.\n",
    "\n",
    "Lista1 = [1,2,3,4,5,6,7,8]\n",
    "Lista1\n",
    "\n",
    "\n",
    "Lista2 =Lista1.copy()\n",
    "\n",
    "Lista2.reverse()\n",
    "\n",
    "Lista2\n",
    "\n"
   ]
  },
  {
   "cell_type": "code",
   "execution_count": 75,
   "metadata": {},
   "outputs": [
    {
     "data": {
      "text/plain": [
       "[1, 2, 3, 4, 5, 6, 7, 8]"
      ]
     },
     "execution_count": 75,
     "metadata": {},
     "output_type": "execute_result"
    }
   ],
   "source": [
    "Lista3 = Lista2[::-1]\n",
    "Lista3"
   ]
  },
  {
   "cell_type": "code",
   "execution_count": 78,
   "metadata": {},
   "outputs": [
    {
     "data": {
      "text/plain": [
       "[2, 2, 3, 4, 6, 6, 8, 8]"
      ]
     },
     "execution_count": 78,
     "metadata": {},
     "output_type": "execute_result"
    }
   ],
   "source": [
    "#14 Ordenar una lista en orden ascendente .Descripción: Dada una lista de números, ordénala en orden ascendente.\n",
    "lista.sort()\n",
    "lista"
   ]
  },
  {
   "cell_type": "code",
   "execution_count": 95,
   "metadata": {},
   "outputs": [
    {
     "data": {
      "text/plain": [
       "[1, 3]"
      ]
     },
     "execution_count": 95,
     "metadata": {},
     "output_type": "execute_result"
    }
   ],
   "source": [
    "#15 Obtener elementos pares de una lista.Descripción: Dada una lista, obtén una nueva lista que contenga solo los elementos en posiciones pares\n",
    "\n",
    "#Lista1[::2]\n",
    "\n",
    "#print('Sacamos todos los elementos de la lista daltando los que están en posiciones pares: [::2] =',Lista1[::2])\n",
    "\n",
    "\n",
    "ListaZ = ['A','B','C']\n",
    "\n",
    "ListaZ[::2]\n"
   ]
  },
  {
   "cell_type": "code",
   "execution_count": null,
   "metadata": {},
   "outputs": [],
   "source": [
    "print('Sacamos todos los elementos de la lista daltando los que están en posiciones pares: [::2] =',letras[::2])\n",
    "print('Sacamos todos los elementos de la lista daltando los que están en posiciones impares: [1::2] =',letras[1::2])\n",
    "print('Sacamos elementos de tres en tres del principio al final: [::3] =',letras[::3])\n",
    "print('Sacamos del primer al séptimo elemento de dos en dos [:8:2] =',letras[:8:2])"
   ]
  }
 ],
 "metadata": {
  "kernelspec": {
   "display_name": "base",
   "language": "python",
   "name": "python3"
  },
  "language_info": {
   "codemirror_mode": {
    "name": "ipython",
    "version": 3
   },
   "file_extension": ".py",
   "mimetype": "text/x-python",
   "name": "python",
   "nbconvert_exporter": "python",
   "pygments_lexer": "ipython3",
   "version": "3.9.12"
  }
 },
 "nbformat": 4,
 "nbformat_minor": 2
}
